{
 "cells": [
  {
   "cell_type": "code",
   "execution_count": 1,
   "metadata": {},
   "outputs": [],
   "source": [
    "import numpy as np"
   ]
  },
  {
   "cell_type": "code",
   "execution_count": 26,
   "metadata": {},
   "outputs": [],
   "source": [
    "def row_op(A, op):    \n",
    "    op = np.array(op)\n",
    "    for i, j in op:\n",
    "        A[j] = (A[i] + A[j]) % 2\n",
    "    return A"
   ]
  },
  {
   "cell_type": "code",
   "execution_count": 44,
   "metadata": {},
   "outputs": [
    {
     "name": "stdout",
     "output_type": "stream",
     "text": [
      "[[1. 0. 0. 0. 0. 0.]\n",
      " [0. 1. 0. 0. 0. 0.]\n",
      " [0. 0. 1. 0. 0. 0.]\n",
      " [0. 0. 0. 1. 0. 0.]\n",
      " [0. 0. 0. 0. 1. 0.]\n",
      " [0. 0. 0. 0. 0. 1.]]\n"
     ]
    }
   ],
   "source": [
    "A = np.identity(7)\n",
    "\n",
    "A[1, 2] = A[1, 4] = 1\n",
    "A[3, 1] = 1\n",
    "A[4, 1] = A[4, 2] = A[4, 3] = A[4, 5] = 1\n",
    "A[5, 1] = A[5, 3] = 1\n",
    "A[6, 1] = A[6, 3] = 1\n",
    "\n",
    "A_init = A.copy()\n",
    "\n",
    "\n",
    "# print(A[1:, 1:])\n",
    "\n",
    "# A = row_op(A, [[4, 1]])\n",
    "\n",
    "\n",
    "Y1 = []\n",
    "\n",
    "y = [[6, 3], [5, 6], [4, 5], [1, 4]]\n",
    "A = row_op(A, y)\n",
    "Y1.extend(y)\n",
    "\n",
    "y = [[2, 5]]\n",
    "A = row_op(A, y)\n",
    "Y1.extend(y)\n",
    "\n",
    "y = [[4, 5], [5, 6], [6, 3]]\n",
    "A = row_op(A, y)\n",
    "Y1.extend(y)\n",
    "\n",
    "y = [[5, 4], [6, 5], [3, 6]]\n",
    "A = row_op(A, y)\n",
    "Y1.extend(y)\n",
    "\n",
    "A = A.transpose()\n",
    "\n",
    "Y2 = []\n",
    "y = [[1, 2], [1, 4]]\n",
    "A = row_op(A, y)\n",
    "Y2.extend(y)\n",
    "\n",
    "y = [[5, 4], [6, 5], [3, 6], [6, 5], [5, 4], [6, 5], [3, 6], [6, 5]]\n",
    "A = row_op(A, y)\n",
    "Y2.extend(y)\n",
    "\n",
    "y = [[5, 6]]\n",
    "A = row_op(A, y)\n",
    "Y2.extend(y)\n",
    "\n",
    "\n",
    "print(A[1:, 1:])"
   ]
  },
  {
   "cell_type": "code",
   "execution_count": 46,
   "metadata": {},
   "outputs": [
    {
     "name": "stdout",
     "output_type": "stream",
     "text": [
      "[[1. 0. 0. 0. 0. 0. 0.]\n",
      " [0. 1. 1. 0. 1. 0. 0.]\n",
      " [0. 0. 1. 0. 0. 0. 0.]\n",
      " [0. 1. 0. 1. 0. 0. 0.]\n",
      " [0. 1. 1. 1. 1. 1. 0.]\n",
      " [0. 1. 0. 1. 0. 1. 0.]\n",
      " [0. 1. 0. 1. 0. 0. 1.]]\n"
     ]
    }
   ],
   "source": [
    "id = np.identity(7)\n",
    "id = row_op(id, [[j,i] for i, j in Y2])\n",
    "id = row_op(id, Y1[::-1])\n",
    "print(id)"
   ]
  },
  {
   "cell_type": "code",
   "execution_count": 47,
   "metadata": {},
   "outputs": [
    {
     "data": {
      "text/plain": [
       "array([[1., 0., 0., 0., 0., 0., 0.],\n",
       "       [0., 1., 1., 0., 1., 0., 0.],\n",
       "       [0., 0., 1., 0., 0., 0., 0.],\n",
       "       [0., 1., 0., 1., 0., 0., 0.],\n",
       "       [0., 1., 1., 1., 1., 1., 0.],\n",
       "       [0., 1., 0., 1., 0., 1., 0.],\n",
       "       [0., 1., 0., 1., 0., 0., 1.]])"
      ]
     },
     "execution_count": 47,
     "metadata": {},
     "output_type": "execute_result"
    }
   ],
   "source": [
    "A_init"
   ]
  },
  {
   "cell_type": "code",
   "execution_count": 62,
   "metadata": {},
   "outputs": [],
   "source": [
    "identity = np.identity(9)\n",
    "op1 = np.array([[5, 2],[2, 1], [5, 2], [2,1]])-1\n",
    "\n",
    "op2 = np.array([[4, 5], [5, 6], [9, 6], [6, 3], [5, 6], [9, 6], \n",
    "        [4, 5], [5, 6], [6,3], [5, 6]])-1\n",
    "\n",
    "op3 = np.array([[5,6], [6, 9], [5, 6]])-1\n",
    "\n",
    "op4 = np.array([[4, 5], [5, 6], [6, 9], [5, 6], [4, 5]])-1\n"
   ]
  },
  {
   "cell_type": "code",
   "execution_count": 63,
   "metadata": {},
   "outputs": [
    {
     "data": {
      "text/plain": [
       "array([[1., 0., 0., 0., 1., 0., 0., 0., 0.],\n",
       "       [0., 1., 0., 0., 0., 0., 0., 0., 0.],\n",
       "       [0., 0., 1., 1., 0., 0., 0., 0., 1.],\n",
       "       [0., 0., 0., 1., 0., 0., 0., 0., 0.],\n",
       "       [0., 0., 0., 0., 1., 0., 0., 0., 0.],\n",
       "       [0., 0., 0., 0., 0., 1., 0., 0., 0.],\n",
       "       [0., 0., 0., 0., 0., 0., 1., 0., 0.],\n",
       "       [0., 0., 0., 0., 0., 0., 0., 1., 0.],\n",
       "       [0., 0., 0., 1., 0., 0., 0., 0., 1.]])"
      ]
     },
     "execution_count": 63,
     "metadata": {},
     "output_type": "execute_result"
    }
   ],
   "source": [
    "upper = np.identity(9)\n",
    "for i, j in op1:\n",
    "    upper[j] = (upper[i] + upper[j]) % 2\n",
    "\n",
    "for i, j in op2:\n",
    "    upper[j] = (upper[i] + upper[j]) % 2\n",
    "\n",
    "for i, j in op3:\n",
    "    upper[j] = (upper[i] + upper[j]) % 2\n",
    "\n",
    "for i, j in op4:\n",
    "    upper[j] = (upper[i] + upper[j]) % 2\n",
    "\n",
    "upper"
   ]
  },
  {
   "cell_type": "code",
   "execution_count": 68,
   "metadata": {},
   "outputs": [
    {
     "data": {
      "text/plain": [
       "array([[1., 0., 0., 0., 1., 0., 0., 0., 0.],\n",
       "       [0., 1., 0., 0., 0., 0., 0., 0., 0.],\n",
       "       [0., 0., 1., 1., 0., 0., 0., 0., 1.],\n",
       "       [0., 0., 0., 1., 0., 0., 0., 0., 0.],\n",
       "       [0., 0., 0., 0., 1., 0., 0., 0., 0.],\n",
       "       [0., 0., 0., 0., 0., 1., 0., 0., 0.],\n",
       "       [0., 0., 0., 0., 0., 0., 1., 0., 0.],\n",
       "       [0., 0., 0., 0., 0., 0., 0., 1., 0.],\n",
       "       [0., 0., 0., 1., 0., 0., 0., 0., 1.]])"
      ]
     },
     "execution_count": 68,
     "metadata": {},
     "output_type": "execute_result"
    }
   ],
   "source": [
    "parity = np.identity(9)\n",
    "parity[0,4]= parity[2,3]=parity[2,8]=parity[8,3] = 1\n",
    "parity"
   ]
  },
  {
   "cell_type": "code",
   "execution_count": 50,
   "metadata": {},
   "outputs": [
    {
     "data": {
      "text/plain": [
       "array([[1., 0., 0., 0., 1., 0., 0., 0., 0.],\n",
       "       [0., 1., 0., 0., 0., 0., 0., 0., 0.],\n",
       "       [0., 0., 1., 1., 0., 0., 0., 0., 1.],\n",
       "       [0., 0., 0., 1., 0., 0., 0., 0., 0.],\n",
       "       [0., 0., 0., 0., 1., 0., 0., 0., 0.],\n",
       "       [0., 0., 0., 0., 0., 1., 0., 0., 0.],\n",
       "       [0., 0., 0., 0., 0., 0., 1., 0., 0.],\n",
       "       [0., 0., 0., 0., 0., 0., 0., 1., 0.],\n",
       "       [0., 0., 0., 0., 0., 0., 0., 0., 1.]])"
      ]
     },
     "execution_count": 50,
     "metadata": {},
     "output_type": "execute_result"
    }
   ],
   "source": [
    "upper = parity.copy()\n",
    "\n",
    "for i, j in op4[::-1]:\n",
    "    upper[j] = (upper[i] + upper[j]) % 2\n",
    "\n",
    "for i, j in op3[::-1]:\n",
    "    upper[j] = (upper[i] + upper[j]) % 2\n",
    "\n",
    "upper"
   ]
  },
  {
   "cell_type": "code",
   "execution_count": 67,
   "metadata": {},
   "outputs": [
    {
     "data": {
      "text/plain": [
       "array([[1., 0., 0., 0., 1., 0., 0., 0., 0.],\n",
       "       [0., 1., 0., 0., 0., 0., 0., 0., 0.],\n",
       "       [0., 0., 1., 0., 0., 0., 0., 0., 1.],\n",
       "       [0., 0., 0., 1., 0., 0., 0., 0., 0.],\n",
       "       [0., 0., 0., 0., 1., 0., 0., 0., 0.],\n",
       "       [0., 0., 0., 0., 0., 1., 0., 0., 0.],\n",
       "       [0., 0., 0., 0., 0., 0., 1., 0., 0.],\n",
       "       [0., 0., 0., 0., 0., 0., 0., 1., 0.],\n",
       "       [0., 0., 0., 1., 0., 0., 0., 0., 1.]])"
      ]
     },
     "execution_count": 67,
     "metadata": {},
     "output_type": "execute_result"
    }
   ],
   "source": [
    "\n",
    "opin = np.array([[8,2], [4,0], [3,8]])\n",
    "parity = np.identity(9)\n",
    "for i, j in opin:\n",
    "    parity[j] = (parity[i] + parity[j]) % 2\n",
    "parity"
   ]
  }
 ],
 "metadata": {
  "interpreter": {
   "hash": "edcc2ff4eda6f009346bd3f9f2886ab37a3d86298e3488561ceb23f131449a51"
  },
  "kernelspec": {
   "display_name": "Python 3.7.4 64-bit",
   "language": "python",
   "name": "python3"
  },
  "language_info": {
   "codemirror_mode": {
    "name": "ipython",
    "version": 3
   },
   "file_extension": ".py",
   "mimetype": "text/x-python",
   "name": "python",
   "nbconvert_exporter": "python",
   "pygments_lexer": "ipython3",
   "version": "3.7.4"
  },
  "orig_nbformat": 4
 },
 "nbformat": 4,
 "nbformat_minor": 2
}
