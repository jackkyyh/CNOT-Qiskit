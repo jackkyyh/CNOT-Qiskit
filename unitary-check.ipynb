{
 "cells": [
  {
   "cell_type": "code",
   "execution_count": 1,
   "metadata": {},
   "outputs": [],
   "source": [
    "import numpy as np\n",
    "from qiskit import *\n",
    "from qiskit import Aer\n",
    "\n",
    "backend = Aer.get_backend('unitary_simulator')"
   ]
  },
  {
   "cell_type": "code",
   "execution_count": 2,
   "metadata": {},
   "outputs": [],
   "source": [
    "with open('../cnotcount/Results/Results_9CNOT3_1.txt', 'r') as f:\n",
    "       lines = f.readlines()\n",
    "\n",
    "num_qubits = 9\n",
    "circ = QuantumCircuit(num_qubits, 0)\n",
    "gate_map = {'X': circ.x, 'Y': circ.y, 'Z': circ.z,\n",
    "    'H': circ.h, 'T': circ.t, 'T+': circ.tdg,\n",
    "    'S': circ.s, 'S+': circ.sdg}\n",
    "\n",
    "for line in lines[6:]:\n",
    "    line = line.strip().split('[')\n",
    "    if(line[0] == 'CNOT'):\n",
    "        qu1, qu2 = int(line[1][0])-1, int(line[1][3])-1\n",
    "        circ.cnot(qu1, qu2)\n",
    "    else:\n",
    "        gate, qu = line\n",
    "        # print(line)\n",
    "        qu = int(qu[0])-1\n",
    "        gate_map[gate](qu)"
   ]
  },
  {
   "cell_type": "code",
   "execution_count": 3,
   "metadata": {},
   "outputs": [],
   "source": [
    "job = execute(circ, backend)\n",
    "result_out = job.result()\n",
    "uni_out = result_out.get_unitary(circ).data\n",
    "# print(result_out.get_unitary(circ, decimals=3))"
   ]
  },
  {
   "cell_type": "code",
   "execution_count": 4,
   "metadata": {},
   "outputs": [],
   "source": [
    "with open('../cnotcount/Testing/9CNOT3_1.txt', 'r') as f:\n",
    "       lines = f.readlines()\n",
    "\n",
    "num_qubits = 9\n",
    "circ = QuantumCircuit(num_qubits, 0)\n",
    "\n",
    "for line in lines[1:]:\n",
    "       line = line.strip().split(' ')\n",
    "       if(line[0] == 'CNOT'):\n",
    "              gate, qu1, qu2 = line\n",
    "              qu1, qu2 = int(qu1), int(qu2)\n",
    "              circ.cnot(qu1, qu2)\n",
    "       else:\n",
    "              gate, qu = line\n",
    "              qu = int(qu)\n",
    "              gate_map = {'X': circ.x, 'Y': circ.y, 'Z': circ.z,\n",
    "                     'H': circ.h, 'T': circ.t, 'T+': circ.tdg,\n",
    "                     'P': circ.s, 'P+': circ.sdg}\n",
    "              gate_map[gate](qu)"
   ]
  },
  {
   "cell_type": "code",
   "execution_count": 5,
   "metadata": {},
   "outputs": [],
   "source": [
    "job = execute(circ, backend)\n",
    "result_in = job.result()\n",
    "uni_in = result_in.get_unitary(circ).data"
   ]
  },
  {
   "cell_type": "code",
   "execution_count": 17,
   "metadata": {},
   "outputs": [
    {
     "data": {
      "text/plain": [
       "6.220563879254868e-15"
      ]
     },
     "execution_count": 17,
     "metadata": {},
     "output_type": "execute_result"
    }
   ],
   "source": [
    "np.linalg.norm(uni_out @ uni_out.conj().T - np.identity(512))"
   ]
  },
  {
   "cell_type": "code",
   "execution_count": 18,
   "metadata": {},
   "outputs": [
    {
     "data": {
      "text/plain": [
       "9.715707507256066e-15"
      ]
     },
     "execution_count": 18,
     "metadata": {},
     "output_type": "execute_result"
    }
   ],
   "source": [
    "np.linalg.norm(uni_in @ uni_in.conj().T - np.identity(512))"
   ]
  }
 ],
 "metadata": {
  "interpreter": {
   "hash": "2bfb7cac2fcf179f16ab553b76ae86dc6d5366a3573d07215dbe41eb2e7e17db"
  },
  "kernelspec": {
   "display_name": "Python 3.9.12 64-bit (windows store)",
   "language": "python",
   "name": "python3"
  },
  "language_info": {
   "codemirror_mode": {
    "name": "ipython",
    "version": 3
   },
   "file_extension": ".py",
   "mimetype": "text/x-python",
   "name": "python",
   "nbconvert_exporter": "python",
   "pygments_lexer": "ipython3",
   "version": "3.7.4"
  },
  "orig_nbformat": 4
 },
 "nbformat": 4,
 "nbformat_minor": 2
}
