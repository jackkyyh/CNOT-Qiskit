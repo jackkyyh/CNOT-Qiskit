{
 "cells": [
  {
   "cell_type": "code",
   "execution_count": 1,
   "metadata": {},
   "outputs": [],
   "source": [
    "from utils import *"
   ]
  },
  {
   "cell_type": "code",
   "execution_count": 9,
   "metadata": {},
   "outputs": [],
   "source": [
    "circ_in = read_circ_qasm('circ/in.txt')\n",
    "u_in = circ2u(circ_in)"
   ]
  },
  {
   "cell_type": "code",
   "execution_count": 10,
   "metadata": {},
   "outputs": [],
   "source": [
    "circ_out = read_circ_sarah('circ/out.txt')\n",
    "u_out = circ2u(circ_out)"
   ]
  },
  {
   "cell_type": "code",
   "execution_count": 12,
   "metadata": {},
   "outputs": [
    {
     "data": {
      "text/plain": [
       "27.712812921102035"
      ]
     },
     "execution_count": 12,
     "metadata": {},
     "output_type": "execute_result"
    }
   ],
   "source": [
    "np.linalg.norm(u_in - u_out)"
   ]
  },
  {
   "cell_type": "code",
   "execution_count": 14,
   "metadata": {},
   "outputs": [],
   "source": [
    "with open('circ/out.txt', 'r') as f:\n",
    "       lines = f.readlines()\n",
    "\n",
    "num_qubits = 9\n",
    "circ = QuantumCircuit(num_qubits, 0)\n",
    "gate_map = {'X': circ.x, 'Y': circ.y, 'Z': circ.z,\n",
    "    'H': circ.h, 'T': circ.t, 'T+': circ.tdg,\n",
    "    'S': circ.s, 'S+': circ.sdg}\n",
    "\n",
    "for line in lines[6:]:\n",
    "    line = line.strip().split('[')\n",
    "    if(line[0] == 'CNOT'):\n",
    "        qu1, qu2 = int(line[1][0])-1, int(line[1][3])-1\n",
    "        circ.cnot(qu1, qu2)\n",
    "    else:\n",
    "        # continue\n",
    "        gate, qu = line\n",
    "        # print(line)\n",
    "        qu = int(qu[0])-1\n",
    "        gate_map[gate](qu)\n",
    "\n",
    "# circ.draw()"
   ]
  },
  {
   "cell_type": "code",
   "execution_count": 15,
   "metadata": {},
   "outputs": [],
   "source": [
    "job = execute(circ, backend)\n",
    "result_out = job.result()\n",
    "uni_out = result_out.get_unitary(circ).data\n",
    "# print(result_out.get_unitary(circ, decimals=3))"
   ]
  },
  {
   "cell_type": "code",
   "execution_count": 16,
   "metadata": {},
   "outputs": [],
   "source": [
    "with open('circ/in.txt', 'r') as f:\n",
    "       lines = f.readlines()\n",
    "\n",
    "num_qubits = 9\n",
    "circ = QuantumCircuit(num_qubits, 0)\n",
    "\n",
    "for line in lines[1:]:\n",
    "       line = line.strip().split(' ')\n",
    "       if(line[0] == 'CNOT'):\n",
    "              gate, qu1, qu2 = line\n",
    "              qu1, qu2 = int(qu1), int(qu2)\n",
    "              circ.cnot(qu1, qu2)\n",
    "       else:\n",
    "              # continue\n",
    "              gate, qu = line\n",
    "              qu = int(qu)\n",
    "              gate_map = {'X': circ.x, 'Y': circ.y, 'Z': circ.z,\n",
    "                     'H': circ.h, 'T': circ.t, 'T+': circ.tdg,\n",
    "                     'P': circ.s, 'P+': circ.sdg}\n",
    "              gate_map[gate](qu)\n",
    "\n",
    "# circ.draw()"
   ]
  },
  {
   "cell_type": "code",
   "execution_count": 17,
   "metadata": {},
   "outputs": [],
   "source": [
    "job = execute(circ, backend)\n",
    "result_in = job.result()\n",
    "uni_in = result_in.get_unitary(circ).data"
   ]
  },
  {
   "cell_type": "code",
   "execution_count": 18,
   "metadata": {},
   "outputs": [
    {
     "data": {
      "text/plain": [
       "27.712812921102035"
      ]
     },
     "execution_count": 18,
     "metadata": {},
     "output_type": "execute_result"
    }
   ],
   "source": [
    "np.linalg.norm(uni_in @ uni_out.conj().T - np.identity(512))"
   ]
  },
  {
   "cell_type": "code",
   "execution_count": 58,
   "metadata": {},
   "outputs": [
    {
     "data": {
      "text/plain": [
       "0.0"
      ]
     },
     "execution_count": 58,
     "metadata": {},
     "output_type": "execute_result"
    }
   ],
   "source": [
    "np.linalg.norm(uni_in - uni_out)"
   ]
  }
 ],
 "metadata": {
  "kernelspec": {
   "display_name": "Python 3.7.4 64-bit",
   "language": "python",
   "name": "python3"
  },
  "language_info": {
   "codemirror_mode": {
    "name": "ipython",
    "version": 3
   },
   "file_extension": ".py",
   "mimetype": "text/x-python",
   "name": "python",
   "nbconvert_exporter": "python",
   "pygments_lexer": "ipython3",
   "version": "3.7.4"
  },
  "orig_nbformat": 4,
  "vscode": {
   "interpreter": {
    "hash": "edcc2ff4eda6f009346bd3f9f2886ab37a3d86298e3488561ceb23f131449a51"
   }
  }
 },
 "nbformat": 4,
 "nbformat_minor": 2
}
