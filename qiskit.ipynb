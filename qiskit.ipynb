{
 "cells": [
  {
   "cell_type": "markdown",
   "metadata": {},
   "source": [
    "# CNOT-Qiskit"
   ]
  },
  {
   "cell_type": "code",
   "execution_count": 2,
   "metadata": {},
   "outputs": [],
   "source": [
    "import numpy as np\n",
    "import re\n",
    "import glob\n",
    "import csv\n",
    "\n",
    "from qiskit import QuantumCircuit, transpile\n",
    "from qiskit.transpiler import CouplingMap\n",
    "\n",
    "\n",
    "# from qiskit.test.mock import FakeProvider\n",
    "# from qiskit.converters import circuit_to_dag\n",
    "# from qiskit.dagcircuit import DAGCircuit\n",
    "# from qiskit.providers import provider\n",
    "# from qiskit.visualization import plot_circuit_layout"
   ]
  },
  {
   "cell_type": "markdown",
   "metadata": {},
   "source": [
    "Define a few coupling maps:"
   ]
  },
  {
   "cell_type": "code",
   "execution_count": 6,
   "metadata": {},
   "outputs": [],
   "source": [
    "tokyo_20_list = np.array([[1,2],[2,5],[5,6],[6,8],\n",
    "                [20,3],[3,4],[4,7],[7,9],\n",
    "                [19,16],[16,15],[15,12],[12,10],\n",
    "                [18,17],[17,14],[14,13],[13,11],\n",
    "                [1,20],[20,19],[19,18],\n",
    "                [2,3],[3,16],[16,17],\n",
    "                [5,4],[4,15],[15,14],\n",
    "                [6,7],[7,12],[12,13],\n",
    "                [8,9],[9,10],[10,11],\n",
    "                [2,4],[5,3],[6,9],[8,7],\n",
    "                [20,16],[3,19],[4,12],[7,15],\n",
    "                [16,14],[15,17],[12,11],[10,13]]) - 1\n",
    "\n",
    "\n",
    "\n",
    "sq_16_list = np.array([[1,2],[2,5],[5,6],\n",
    "                [16,3],[3,4],[4,7],\n",
    "                [15,12],[12, 11],[11, 8],\n",
    "                [14,13],[13,10],[9,10],\n",
    "                [1, 16],[16,15],[15,14],\n",
    "                [2,3],[3,12],[12, 13],\n",
    "                [5,4],[4,11],[11,10],\n",
    "                [6,7],[7,8],[8,9]]) - 1\n",
    "\n",
    "simple_4_list = np.array([[1,2],[2,3],[3,4],[4,1]]) - 1\n",
    "\n",
    "simple_6_list = np.array([[1,2],[2,4],[3,4],[3,1], [3,5],[5,6],[6,4]]) - 1\n",
    "\n",
    "tokyo_20 = CouplingMap(tokyo_20_list)\n",
    "tokyo_20.make_symmetric()\n",
    "\n",
    "sq_16 = CouplingMap(sq_16_list)\n",
    "sq_16.make_symmetric()\n",
    "\n",
    "simple_4 = CouplingMap(simple_4_list)\n",
    "simple_4.make_symmetric()\n",
    "\n",
    "simple_6 = CouplingMap(simple_6_list)\n",
    "simple_6.make_symmetric()\n",
    "\n",
    "qubit_to_cmap = {4: simple_4, 6: simple_6, 16: sq_16, 20: tokyo_20}"
   ]
  },
  {
   "cell_type": "code",
   "execution_count": 1,
   "metadata": {},
   "outputs": [],
   "source": [
    "def get_circ_from_file(file):\n",
    "    with open(file, 'r') as f:\n",
    "        lines = f.readlines()\n",
    "\n",
    "    num_qu = int(lines[0].strip())\n",
    "\n",
    "    circ = QuantumCircuit(num_qu, 0)\n",
    "    gate_map = {'X': circ.x, 'Y': circ.y, 'Z': circ.z,\n",
    "        'H': circ.h, 'T': circ.t, 'T+': circ.tdg,\n",
    "        'P': circ.s, 'P+': circ.sdg}\n",
    "\n",
    "    for line in lines[1:]:\n",
    "        line = line.strip().split(' ')\n",
    "        if(line[0] == 'CNOT'):\n",
    "            _, qu1, qu2 = line\n",
    "            qu1, qu2 = int(qu1), int(qu2)\n",
    "            circ.cnot(qu1, qu2)\n",
    "        else:\n",
    "            gate, qu = line\n",
    "            qu = int(qu)\n",
    "            gate_map[gate](qu)\n",
    "    return circ"
   ]
  },
  {
   "cell_type": "code",
   "execution_count": 7,
   "metadata": {},
   "outputs": [],
   "source": [
    "def my_transpile(circ, coupling_map):\n",
    "    transpiled_circ = transpile(circ, backend=None, \n",
    "                                    coupling_map=coupling_map,\n",
    "                                    optimization_level=0,\n",
    "                                    basis_gates=['x', 'y','z','t','tdg','s','sdg','cx','h'],\n",
    "                                    layout_method='trivial')\n",
    "    return transpiled_circ"
   ]
  },
  {
   "cell_type": "code",
   "execution_count": 27,
   "metadata": {},
   "outputs": [
    {
     "name": "stdout",
     "output_type": "stream",
     "text": [
      "qubit: 16, init: 128, after: 692, overhead: 5.40625\n",
      "qubit: 16, init: 128, after: 830, overhead: 6.484375\n",
      "qubit: 16, init: 128, after: 707, overhead: 5.5234375\n",
      "qubit: 16, init: 128, after: 716, overhead: 5.59375\n",
      "qubit: 16, init: 128, after: 704, overhead: 5.5\n",
      "qubit: 16, init: 128, after: 752, overhead: 5.875\n",
      "qubit: 16, init: 128, after: 731, overhead: 5.7109375\n",
      "qubit: 16, init: 128, after: 770, overhead: 6.015625\n",
      "qubit: 16, init: 128, after: 698, overhead: 5.453125\n",
      "qubit: 16, init: 128, after: 764, overhead: 5.96875\n",
      "qubit: 16, init: 16, after: 73, overhead: 4.5625\n",
      "qubit: 16, init: 16, after: 94, overhead: 5.875\n",
      "qubit: 16, init: 16, after: 121, overhead: 7.5625\n",
      "qubit: 16, init: 16, after: 76, overhead: 4.75\n",
      "qubit: 16, init: 16, after: 94, overhead: 5.875\n",
      "qubit: 16, init: 16, after: 88, overhead: 5.5\n",
      "qubit: 16, init: 16, after: 97, overhead: 6.0625\n",
      "qubit: 16, init: 16, after: 103, overhead: 6.4375\n",
      "qubit: 16, init: 16, after: 73, overhead: 4.5625\n",
      "qubit: 16, init: 16, after: 94, overhead: 5.875\n",
      "qubit: 16, init: 256, after: 1411, overhead: 5.51171875\n",
      "qubit: 16, init: 256, after: 1528, overhead: 5.96875\n",
      "qubit: 16, init: 256, after: 1546, overhead: 6.0390625\n",
      "qubit: 16, init: 256, after: 1546, overhead: 6.0390625\n",
      "qubit: 16, init: 256, after: 1447, overhead: 5.65234375\n",
      "qubit: 16, init: 256, after: 1549, overhead: 6.05078125\n",
      "qubit: 16, init: 256, after: 1558, overhead: 6.0859375\n",
      "qubit: 16, init: 256, after: 1618, overhead: 6.3203125\n",
      "qubit: 16, init: 256, after: 1504, overhead: 5.875\n",
      "qubit: 16, init: 256, after: 1588, overhead: 6.203125\n",
      "qubit: 16, init: 32, after: 200, overhead: 6.25\n",
      "qubit: 16, init: 32, after: 200, overhead: 6.25\n",
      "qubit: 16, init: 32, after: 215, overhead: 6.71875\n",
      "qubit: 16, init: 32, after: 173, overhead: 5.40625\n",
      "qubit: 16, init: 32, after: 197, overhead: 6.15625\n",
      "qubit: 16, init: 32, after: 185, overhead: 5.78125\n",
      "qubit: 16, init: 32, after: 170, overhead: 5.3125\n",
      "qubit: 16, init: 32, after: 209, overhead: 6.53125\n",
      "qubit: 16, init: 32, after: 158, overhead: 4.9375\n",
      "qubit: 16, init: 32, after: 191, overhead: 5.96875\n",
      "qubit: 16, init: 4, after: 25, overhead: 6.25\n",
      "qubit: 16, init: 4, after: 22, overhead: 5.5\n",
      "qubit: 16, init: 4, after: 31, overhead: 7.75\n",
      "qubit: 16, init: 4, after: 40, overhead: 10.0\n",
      "qubit: 16, init: 4, after: 19, overhead: 4.75\n",
      "qubit: 16, init: 4, after: 34, overhead: 8.5\n",
      "qubit: 16, init: 4, after: 25, overhead: 6.25\n",
      "qubit: 16, init: 4, after: 22, overhead: 5.5\n",
      "qubit: 16, init: 4, after: 16, overhead: 4.0\n",
      "qubit: 16, init: 4, after: 31, overhead: 7.75\n",
      "qubit: 16, init: 64, after: 418, overhead: 6.53125\n",
      "qubit: 16, init: 64, after: 388, overhead: 6.0625\n",
      "qubit: 16, init: 64, after: 373, overhead: 5.828125\n",
      "qubit: 16, init: 64, after: 334, overhead: 5.21875\n",
      "qubit: 16, init: 64, after: 328, overhead: 5.125\n",
      "qubit: 16, init: 64, after: 355, overhead: 5.546875\n",
      "qubit: 16, init: 64, after: 361, overhead: 5.640625\n",
      "qubit: 16, init: 64, after: 382, overhead: 5.96875\n",
      "qubit: 16, init: 64, after: 340, overhead: 5.3125\n",
      "qubit: 16, init: 64, after: 409, overhead: 6.390625\n",
      "qubit: 16, init: 8, after: 53, overhead: 6.625\n",
      "qubit: 16, init: 8, after: 38, overhead: 4.75\n",
      "qubit: 16, init: 8, after: 41, overhead: 5.125\n",
      "qubit: 16, init: 8, after: 56, overhead: 7.0\n",
      "qubit: 16, init: 8, after: 44, overhead: 5.5\n",
      "qubit: 16, init: 8, after: 53, overhead: 6.625\n",
      "qubit: 16, init: 8, after: 50, overhead: 6.25\n",
      "qubit: 16, init: 8, after: 44, overhead: 5.5\n",
      "qubit: 16, init: 8, after: 32, overhead: 4.0\n",
      "qubit: 16, init: 8, after: 38, overhead: 4.75\n",
      "qubit: 20, init: 128, after: 695, overhead: 5.4296875\n",
      "qubit: 20, init: 128, after: 818, overhead: 6.390625\n",
      "qubit: 20, init: 128, after: 728, overhead: 5.6875\n",
      "qubit: 20, init: 128, after: 752, overhead: 5.875\n",
      "qubit: 20, init: 128, after: 728, overhead: 5.6875\n",
      "qubit: 20, init: 128, after: 692, overhead: 5.40625\n",
      "qubit: 20, init: 128, after: 752, overhead: 5.875\n",
      "qubit: 20, init: 128, after: 716, overhead: 5.59375\n",
      "qubit: 20, init: 128, after: 683, overhead: 5.3359375\n",
      "qubit: 20, init: 128, after: 707, overhead: 5.5234375\n",
      "qubit: 20, init: 16, after: 103, overhead: 6.4375\n",
      "qubit: 20, init: 16, after: 85, overhead: 5.3125\n",
      "qubit: 20, init: 16, after: 88, overhead: 5.5\n",
      "qubit: 20, init: 16, after: 97, overhead: 6.0625\n",
      "qubit: 20, init: 16, after: 103, overhead: 6.4375\n",
      "qubit: 20, init: 16, after: 97, overhead: 6.0625\n",
      "qubit: 20, init: 16, after: 82, overhead: 5.125\n",
      "qubit: 20, init: 16, after: 94, overhead: 5.875\n",
      "qubit: 20, init: 16, after: 76, overhead: 4.75\n",
      "qubit: 20, init: 16, after: 91, overhead: 5.6875\n",
      "qubit: 20, init: 256, after: 1465, overhead: 5.72265625\n",
      "qubit: 20, init: 256, after: 1393, overhead: 5.44140625\n",
      "qubit: 20, init: 256, after: 1396, overhead: 5.453125\n",
      "qubit: 20, init: 256, after: 1417, overhead: 5.53515625\n",
      "qubit: 20, init: 256, after: 1405, overhead: 5.48828125\n",
      "qubit: 20, init: 256, after: 1441, overhead: 5.62890625\n",
      "qubit: 20, init: 256, after: 1519, overhead: 5.93359375\n",
      "qubit: 20, init: 256, after: 1363, overhead: 5.32421875\n",
      "qubit: 20, init: 256, after: 1414, overhead: 5.5234375\n",
      "qubit: 20, init: 256, after: 1459, overhead: 5.69921875\n",
      "qubit: 20, init: 32, after: 173, overhead: 5.40625\n",
      "qubit: 20, init: 32, after: 155, overhead: 4.84375\n",
      "qubit: 20, init: 32, after: 185, overhead: 5.78125\n",
      "qubit: 20, init: 32, after: 143, overhead: 4.46875\n",
      "qubit: 20, init: 32, after: 134, overhead: 4.1875\n",
      "qubit: 20, init: 32, after: 161, overhead: 5.03125\n",
      "qubit: 20, init: 32, after: 173, overhead: 5.40625\n",
      "qubit: 20, init: 32, after: 179, overhead: 5.59375\n",
      "qubit: 20, init: 32, after: 197, overhead: 6.15625\n",
      "qubit: 20, init: 32, after: 164, overhead: 5.125\n",
      "qubit: 20, init: 4, after: 10, overhead: 2.5\n",
      "qubit: 20, init: 4, after: 19, overhead: 4.75\n",
      "qubit: 20, init: 4, after: 16, overhead: 4.0\n",
      "qubit: 20, init: 4, after: 25, overhead: 6.25\n",
      "qubit: 20, init: 4, after: 28, overhead: 7.0\n",
      "qubit: 20, init: 4, after: 28, overhead: 7.0\n",
      "qubit: 20, init: 4, after: 22, overhead: 5.5\n",
      "qubit: 20, init: 4, after: 19, overhead: 4.75\n",
      "qubit: 20, init: 4, after: 22, overhead: 5.5\n",
      "qubit: 20, init: 4, after: 25, overhead: 6.25\n",
      "qubit: 20, init: 64, after: 334, overhead: 5.21875\n",
      "qubit: 20, init: 64, after: 388, overhead: 6.0625\n",
      "qubit: 20, init: 64, after: 328, overhead: 5.125\n",
      "qubit: 20, init: 64, after: 367, overhead: 5.734375\n",
      "qubit: 20, init: 64, after: 328, overhead: 5.125\n",
      "qubit: 20, init: 64, after: 373, overhead: 5.828125\n",
      "qubit: 20, init: 64, after: 388, overhead: 6.0625\n",
      "qubit: 20, init: 64, after: 367, overhead: 5.734375\n",
      "qubit: 20, init: 64, after: 325, overhead: 5.078125\n",
      "qubit: 20, init: 64, after: 409, overhead: 6.390625\n",
      "qubit: 20, init: 8, after: 44, overhead: 5.5\n",
      "qubit: 20, init: 8, after: 44, overhead: 5.5\n",
      "qubit: 20, init: 8, after: 47, overhead: 5.875\n",
      "qubit: 20, init: 8, after: 59, overhead: 7.375\n",
      "qubit: 20, init: 8, after: 53, overhead: 6.625\n",
      "qubit: 20, init: 8, after: 41, overhead: 5.125\n",
      "qubit: 20, init: 8, after: 44, overhead: 5.5\n",
      "qubit: 20, init: 8, after: 50, overhead: 6.25\n",
      "qubit: 20, init: 8, after: 65, overhead: 8.125\n",
      "qubit: 20, init: 8, after: 38, overhead: 4.75\n"
     ]
    }
   ],
   "source": [
    "for num_qubit in (16, 20):\n",
    "    out_file = open(f'out/out_{num_qubit}.csv', 'w', newline='')\n",
    "    writer = csv.writer(out_file)\n",
    "    writer.writerow(['Qubit', 'Initial CNOT Count', 'File', 'Synthesized CNOT Count', 'Overhead'])\n",
    "    cmap = qubit_to_cmap[num_qubit]\n",
    "    all_files = glob.glob(f'../cnotcount/Testing/{num_qubit}*')\n",
    "    for file in all_files:\n",
    "        reg = re.match(f'.*{num_qubit}CNOT(\\d+)_(\\d+).txt', file)\n",
    "        exp_count = int(reg.group(1))\n",
    "        index = int(reg.group(2))\n",
    "        circ = get_circ_from_file(file)\n",
    "        transpiled_circ = my_transpile(circ, cmap)\n",
    "        init_count = circ.count_ops()['cx']\n",
    "        assert init_count == exp_count\n",
    "        transpiled_count = transpiled_circ.count_ops()['cx']\n",
    "        overhead = transpiled_count / init_count\n",
    "        print(f'qubit: {num_qubit}, init: {init_count}, after: {transpiled_count}, overhead: {overhead}')\n",
    "        writer.writerow([num_qubit, init_count, index, transpiled_count, overhead])\n",
    "\n",
    "    out_file.close()"
   ]
  },
  {
   "cell_type": "markdown",
   "metadata": {},
   "source": [
    "## Analysis of the worst-case overhead"
   ]
  },
  {
   "cell_type": "markdown",
   "metadata": {},
   "source": [
    "Given a list of CNOTs\n",
    "$$\\{CNOT(q_{i,1},q_{i,2}): i=0,\\dots,m\\},$$\n",
    "the worst-case CNOT count is given by\n",
    "$$\\sum_{i=1}^m6(d(q_{i,1},q_{i,2})-1).$$\n",
    "The worst-case overhead is \n",
    "\\begin{align*}\n",
    "\\frac{1}{m}\\sum_{i=1}^m6(d(q_{i,1},q_{i,2})-1)\n",
    "&=6\\Big(\\frac{1}{m}\\sum_{i=1}^md(q_{i,1},q_{i,2})-1\\Big) \\\\\n",
    "&=6(\\operatorname{avg}\\{d(q_{i,1},q_{i,2})\\}-1).\n",
    "\\end{align*}\n",
    "\n",
    "If we assume the control and target qubits are randomly chosen with equal probability, then $$\\operatorname{avg}\\{d(q_{i,1},q_{i,2})\\}=\\operatorname{avg}\\{d(q_k,q_l):k,l=0,\\dots,N\\}.$$\n",
    "\n",
    "In fact, Qiskit provides a simple API to calculate the distance of any two qubits in an adjacency graph:"
   ]
  },
  {
   "cell_type": "code",
   "execution_count": null,
   "metadata": {},
   "outputs": [
    {
     "name": "stdout",
     "output_type": "stream",
     "text": [
      "[[0. 1. 2. 3. 2. 3. 4. 5. 6. 5. 4. 3. 4. 3. 2. 1.]\n",
      " [1. 0. 1. 2. 1. 2. 3. 4. 5. 4. 3. 2. 3. 4. 3. 2.]\n",
      " [2. 1. 0. 1. 2. 3. 2. 3. 4. 3. 2. 1. 2. 3. 2. 1.]\n",
      " [3. 2. 1. 0. 1. 2. 1. 2. 3. 2. 1. 2. 3. 4. 3. 2.]\n",
      " [2. 1. 2. 1. 0. 1. 2. 3. 4. 3. 2. 3. 4. 5. 4. 3.]\n",
      " [3. 2. 3. 2. 1. 0. 1. 2. 3. 4. 3. 4. 5. 6. 5. 4.]\n",
      " [4. 3. 2. 1. 2. 1. 0. 1. 2. 3. 2. 3. 4. 5. 4. 3.]\n",
      " [5. 4. 3. 2. 3. 2. 1. 0. 1. 2. 1. 2. 3. 4. 3. 4.]\n",
      " [6. 5. 4. 3. 4. 3. 2. 1. 0. 1. 2. 3. 2. 3. 4. 5.]\n",
      " [5. 4. 3. 2. 3. 4. 3. 2. 1. 0. 1. 2. 1. 2. 3. 4.]\n",
      " [4. 3. 2. 1. 2. 3. 2. 1. 2. 1. 0. 1. 2. 3. 2. 3.]\n",
      " [3. 2. 1. 2. 3. 4. 3. 2. 3. 2. 1. 0. 1. 2. 1. 2.]\n",
      " [4. 3. 2. 3. 4. 5. 4. 3. 2. 1. 2. 1. 0. 1. 2. 3.]\n",
      " [3. 4. 3. 4. 5. 6. 5. 4. 3. 2. 3. 2. 1. 0. 1. 2.]\n",
      " [2. 3. 2. 3. 4. 5. 4. 3. 4. 3. 2. 1. 2. 1. 0. 1.]\n",
      " [1. 2. 1. 2. 3. 4. 3. 4. 5. 4. 3. 2. 3. 2. 1. 0.]]\n"
     ]
    }
   ],
   "source": [
    "print(sq_16.distance_matrix)"
   ]
  },
  {
   "cell_type": "markdown",
   "metadata": {},
   "source": [
    "Therefore, the average distance is simply"
   ]
  },
  {
   "cell_type": "code",
   "execution_count": null,
   "metadata": {},
   "outputs": [
    {
     "name": "stdout",
     "output_type": "stream",
     "text": [
      "1.0\n",
      "1.3888888888888888\n",
      "2.5\n",
      "2.14\n"
     ]
    }
   ],
   "source": [
    "print(simple_4.distance_matrix.mean())\n",
    "print(simple_6.distance_matrix.mean())\n",
    "print(sq_16.distance_matrix.mean())\n",
    "print(tokyo_20.distance_matrix.mean())"
   ]
  },
  {
   "cell_type": "markdown",
   "metadata": {},
   "source": [
    "For example, for `sq_16`, the worst case overhead $\\approx 6(2.5-1)=900\\%$.\n",
    "\n",
    "Results from the previous section shows that Qiskit's built-in transpiler can consistantly reduce this overhead to $\\approx 600\\%$."
   ]
  },
  {
   "cell_type": "markdown",
   "metadata": {},
   "source": [
    "# A simple topology "
   ]
  },
  {
   "cell_type": "code",
   "execution_count": 52,
   "metadata": {},
   "outputs": [
    {
     "name": "stdout",
     "output_type": "stream",
     "text": [
      "qubit: 6, init: 4, after: 19, overhead: 4.75\n"
     ]
    }
   ],
   "source": [
    "cmap = qubit_to_cmap[6]\n",
    "circ = get_circ_from_file('6CNOT4_1.txt')\n",
    "init_c_count = 4\n",
    "transpiled_circ, cnot_count = trans(circ, cmap)\n",
    "overhead = cnot_count / init_c_count\n",
    "print(f'qubit: {circ.num_qubits}, init: {init_c_count}, after: {cnot_count}, overhead: {overhead}')"
   ]
  },
  {
   "cell_type": "code",
   "execution_count": 53,
   "metadata": {},
   "outputs": [
    {
     "data": {
      "text/html": [
       "<pre style=\"word-wrap: normal;white-space: pre;background: #fff0;line-height: 1.1;font-family: &quot;Courier New&quot;,Courier,monospace\">     ┌─────┐┌───┐┌─────┐      ┌───┐                \n",
       "q_0: ┤ Tdg ├┤ T ├┤ Tdg ├──■───┤ T ├────────────────\n",
       "     └─────┘├───┤└┬───┬┘  │  ┌┴───┴┐┌───┐          \n",
       "q_1: ───────┤ X ├─┤ T ├───┼──┤ Tdg ├┤ H ├──■───────\n",
       "      ┌───┐ └─┬─┘┌┴───┴┐  │  └─────┘└───┘┌─┴─┐     \n",
       "q_2: ─┤ X ├───┼──┤ Tdg ├──┼──────────────┤ X ├─────\n",
       "      ├───┤   │  └┬───┬┘  │   ┌───┐ ┌───┐└───┘┌───┐\n",
       "q_3: ─┤ T ├───■───┤ T ├───┼───┤ H ├─┤ T ├──■──┤ X ├\n",
       "      └───┘       └───┘ ┌─┴─┐ └───┘ └───┘┌─┴─┐└───┘\n",
       "q_4: ───────────────────┤ X ├────────────┤ X ├─────\n",
       "                        └───┘            └───┘     \n",
       "q_5: ──────────────────────────────────────────────\n",
       "                                                   </pre>"
      ],
      "text/plain": [
       "     ┌─────┐┌───┐┌─────┐      ┌───┐                \n",
       "q_0: ┤ Tdg ├┤ T ├┤ Tdg ├──■───┤ T ├────────────────\n",
       "     └─────┘├───┤└┬───┬┘  │  ┌┴───┴┐┌───┐          \n",
       "q_1: ───────┤ X ├─┤ T ├───┼──┤ Tdg ├┤ H ├──■───────\n",
       "      ┌───┐ └─┬─┘┌┴───┴┐  │  └─────┘└───┘┌─┴─┐     \n",
       "q_2: ─┤ X ├───┼──┤ Tdg ├──┼──────────────┤ X ├─────\n",
       "      ├───┤   │  └┬───┬┘  │   ┌───┐ ┌───┐└───┘┌───┐\n",
       "q_3: ─┤ T ├───■───┤ T ├───┼───┤ H ├─┤ T ├──■──┤ X ├\n",
       "      └───┘       └───┘ ┌─┴─┐ └───┘ └───┘┌─┴─┐└───┘\n",
       "q_4: ───────────────────┤ X ├────────────┤ X ├─────\n",
       "                        └───┘            └───┘     \n",
       "q_5: ──────────────────────────────────────────────\n",
       "                                                   "
      ]
     },
     "execution_count": 53,
     "metadata": {},
     "output_type": "execute_result"
    }
   ],
   "source": [
    "circ.draw()"
   ]
  },
  {
   "cell_type": "code",
   "execution_count": 54,
   "metadata": {},
   "outputs": [
    {
     "data": {
      "text/html": [
       "<pre style=\"word-wrap: normal;white-space: pre;background: #fff0;line-height: 1.1;font-family: &quot;Courier New&quot;,Courier,monospace\">         ┌─────┐       ┌───┐          ┌───┐ ┌───┐ ┌─────┐┌───┐┌───┐          »\n",
       "q_0 -> 0 ┤ Tdg ├───■───┤ X ├──■───────┤ X ├─┤ T ├─┤ Tdg ├┤ H ├┤ X ├───────■──»\n",
       "         └─────┘ ┌─┴─┐ └─┬─┘┌─┴─┐┌───┐└─┬─┘┌┴───┴┐└─────┘├───┤└─┬─┘       │  »\n",
       "q_1 -> 1 ────────┤ X ├───■──┤ X ├┤ T ├──┼──┤ Tdg ├───■───┤ T ├──┼────■────┼──»\n",
       "          ┌───┐ ┌┴───┴┐     ├───┤└───┘  │  └─────┘ ┌─┴─┐ └───┘  │  ┌─┴─┐  │  »\n",
       "q_2 -> 2 ─┤ X ├─┤ Tdg ├──■──┤ X ├──■────┼──────────┤ X ├────────┼──┤ X ├──┼──»\n",
       "          ├───┤ └─────┘  │  └─┬─┘  │    │   ┌───┐  ├───┤ ┌───┐  │  └───┘┌─┴─┐»\n",
       "q_3 -> 3 ─┤ T ├──────────┼────┼────┼────■───┤ T ├──┤ H ├─┤ T ├──■───────┤ X ├»\n",
       "          └───┘        ┌─┴─┐  │  ┌─┴─┐      ├───┤  └───┘ └───┘          └───┘»\n",
       "q_4 -> 4 ──────────────┤ X ├──■──┤ X ├──■───┤ X ├────■───────────────────────»\n",
       "                       └───┘     └───┘┌─┴─┐ └─┬─┘  ┌─┴─┐                     »\n",
       "q_5 -> 5 ─────────────────────────────┤ X ├───■────┤ X ├─────────────────────»\n",
       "                                      └───┘        └───┘                     »\n",
       "«              ┌───┐          ┌───┐\n",
       "«q_0 -> 0 ─────┤ X ├───────■──┤ X ├\n",
       "«         ┌───┐└─┬─┘     ┌─┴─┐└───┘\n",
       "«q_1 -> 1 ┤ X ├──┼────■──┤ X ├─────\n",
       "«         └─┬─┘  │  ┌─┴─┐└───┘     \n",
       "«q_2 -> 2 ──■────┼──┤ X ├──────────\n",
       "«                │  └───┘          \n",
       "«q_3 -> 3 ───────■────■────────────\n",
       "«                     │            \n",
       "«q_4 -> 4 ────────────┼────────────\n",
       "«                   ┌─┴─┐          \n",
       "«q_5 -> 5 ──────────┤ X ├──────────\n",
       "«                   └───┘          </pre>"
      ],
      "text/plain": [
       "         ┌─────┐       ┌───┐          ┌───┐ ┌───┐ ┌─────┐┌───┐┌───┐          »\n",
       "q_0 -> 0 ┤ Tdg ├───■───┤ X ├──■───────┤ X ├─┤ T ├─┤ Tdg ├┤ H ├┤ X ├───────■──»\n",
       "         └─────┘ ┌─┴─┐ └─┬─┘┌─┴─┐┌───┐└─┬─┘┌┴───┴┐└─────┘├───┤└─┬─┘       │  »\n",
       "q_1 -> 1 ────────┤ X ├───■──┤ X ├┤ T ├──┼──┤ Tdg ├───■───┤ T ├──┼────■────┼──»\n",
       "          ┌───┐ ┌┴───┴┐     ├───┤└───┘  │  └─────┘ ┌─┴─┐ └───┘  │  ┌─┴─┐  │  »\n",
       "q_2 -> 2 ─┤ X ├─┤ Tdg ├──■──┤ X ├──■────┼──────────┤ X ├────────┼──┤ X ├──┼──»\n",
       "          ├───┤ └─────┘  │  └─┬─┘  │    │   ┌───┐  ├───┤ ┌───┐  │  └───┘┌─┴─┐»\n",
       "q_3 -> 3 ─┤ T ├──────────┼────┼────┼────■───┤ T ├──┤ H ├─┤ T ├──■───────┤ X ├»\n",
       "          └───┘        ┌─┴─┐  │  ┌─┴─┐      ├───┤  └───┘ └───┘          └───┘»\n",
       "q_4 -> 4 ──────────────┤ X ├──■──┤ X ├──■───┤ X ├────■───────────────────────»\n",
       "                       └───┘     └───┘┌─┴─┐ └─┬─┘  ┌─┴─┐                     »\n",
       "q_5 -> 5 ─────────────────────────────┤ X ├───■────┤ X ├─────────────────────»\n",
       "                                      └───┘        └───┘                     »\n",
       "«              ┌───┐          ┌───┐\n",
       "«q_0 -> 0 ─────┤ X ├───────■──┤ X ├\n",
       "«         ┌───┐└─┬─┘     ┌─┴─┐└───┘\n",
       "«q_1 -> 1 ┤ X ├──┼────■──┤ X ├─────\n",
       "«         └─┬─┘  │  ┌─┴─┐└───┘     \n",
       "«q_2 -> 2 ──■────┼──┤ X ├──────────\n",
       "«                │  └───┘          \n",
       "«q_3 -> 3 ───────■────■────────────\n",
       "«                     │            \n",
       "«q_4 -> 4 ────────────┼────────────\n",
       "«                   ┌─┴─┐          \n",
       "«q_5 -> 5 ──────────┤ X ├──────────\n",
       "«                   └───┘          "
      ]
     },
     "execution_count": 54,
     "metadata": {},
     "output_type": "execute_result"
    }
   ],
   "source": [
    "transpiled_circ.draw()"
   ]
  }
 ],
 "metadata": {
  "interpreter": {
   "hash": "edcc2ff4eda6f009346bd3f9f2886ab37a3d86298e3488561ceb23f131449a51"
  },
  "kernelspec": {
   "display_name": "Python 3.7.4 64-bit",
   "language": "python",
   "name": "python3"
  },
  "language_info": {
   "codemirror_mode": {
    "name": "ipython",
    "version": 3
   },
   "file_extension": ".py",
   "mimetype": "text/x-python",
   "name": "python",
   "nbconvert_exporter": "python",
   "pygments_lexer": "ipython3",
   "version": "3.9.12"
  },
  "orig_nbformat": 4
 },
 "nbformat": 4,
 "nbformat_minor": 2
}
