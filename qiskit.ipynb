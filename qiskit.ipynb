{
 "cells": [
  {
   "cell_type": "markdown",
   "metadata": {},
   "source": [
    "# CNOT-Qiskit"
   ]
  },
  {
   "cell_type": "code",
   "execution_count": 1,
   "metadata": {},
   "outputs": [],
   "source": [
    "from qiskit import QuantumCircuit, transpile\n",
    "from qiskit.test.mock import FakeProvider\n",
    "\n",
    "from qiskit.transpiler import CouplingMap\n",
    "\n",
    "from qiskit.converters import circuit_to_dag\n",
    "from qiskit.dagcircuit import DAGCircuit\n",
    "from qiskit.providers import provider\n",
    "import numpy as np\n",
    "from qiskit.visualization import plot_circuit_layout\n",
    "import re\n",
    "\n",
    "\n",
    "import model"
   ]
  },
  {
   "cell_type": "markdown",
   "metadata": {},
   "source": [
    "Define a few coupling maps:"
   ]
  },
  {
   "cell_type": "code",
   "execution_count": 58,
   "metadata": {},
   "outputs": [],
   "source": [
    "tokyo_20_list = np.array([[1,2],[2,5],[5,6],[6,8],\n",
    "                [20,3],[3,4],[4,7],[7,9],\n",
    "                [19,16],[16,15],[15,12],[12,10],\n",
    "                [18,17],[17,14],[14,13],[13,11],\n",
    "                [1,20],[20,19],[19,18],\n",
    "                [2,3],[3,16],[16,17],\n",
    "                [5,4],[4,15],[15,14],\n",
    "                [6,7],[7,12],[12,13],\n",
    "                [8,9],[9,10],[10,11],\n",
    "                [2,4],[5,3],[6,9],[8,7],\n",
    "                [20,16],[3,19],[4,12],[7,15],\n",
    "                [16,14],[15,17],[12,11],[10,13]]) - 1\n",
    "\n",
    "\n",
    "\n",
    "sq_16_list = np.array([[1,2],[2,5],[5,6],\n",
    "                [16,3],[3,4],[4,7],\n",
    "                [15,12],[12, 11],[11, 8],\n",
    "                [14,13],[13,10],[9,10],\n",
    "                [1, 16],[16,15],[15,14],\n",
    "                [2,3],[3,12],[12, 13],\n",
    "                [5,4],[4,11],[11,10],\n",
    "                [6,7],[7,8],[8,9]]) - 1\n",
    "\n",
    "simple_4_list = np.array([[1,2],[2,3],[3,4],[4,1]]) - 1\n",
    "\n",
    "simple_6_list = np.array([[1,2],[2,4],[3,4],[3,1], [3,5],[5,6],[6,4]]) - 1\n",
    "\n",
    "tokyo_20 = CouplingMap(tokyo_20_list)\n",
    "tokyo_20.make_symmetric()\n",
    "\n",
    "sq_16 = CouplingMap(sq_16_list)\n",
    "sq_16.make_symmetric()\n",
    "\n",
    "simple_4 = CouplingMap(simple_4_list)\n",
    "simple_4.make_symmetric()\n",
    "\n",
    "simple_6 = CouplingMap(simple_6_list)\n",
    "simple_6.make_symmetric()\n",
    "\n",
    "qubit_to_cmap = {4: simple_4, 6: simple_6, 16: sq_16, 20: tokyo_20}"
   ]
  },
  {
   "cell_type": "markdown",
   "metadata": {},
   "source": [
    "Some helper functions handling IO:"
   ]
  },
  {
   "cell_type": "code",
   "execution_count": 98,
   "metadata": {},
   "outputs": [],
   "source": [
    "def get_all_file_names(dir, regex):\n",
    "    # TODO: read all files from directory\n",
    "    all_file = [dir+regex[:-1]+'CNOT128_1.txt', dir+regex[:-1]+'CNOT256_1.txt']\n",
    "    return all_file\n",
    "\n",
    "\n",
    "def get_circ_from_file(file):\n",
    "    with open(file, 'r') as f:\n",
    "        lines = f.readlines()\n",
    "\n",
    "    num_qu = int(lines[0].strip())\n",
    "\n",
    "    circ = QuantumCircuit(num_qu, 0)\n",
    "    gate_map = {'X': circ.x, 'Y': circ.y, 'Z': circ.z,\n",
    "        'H': circ.h, 'T': circ.t, 'T+': circ.tdg,\n",
    "        'P': circ.s, 'P+': circ.sdg}\n",
    "\n",
    "    for line in lines[1:]:\n",
    "        line = line.strip().split(' ')\n",
    "        if(line[0] == 'CNOT'):\n",
    "            _, qu1, qu2 = line\n",
    "            qu1, qu2 = int(qu1), int(qu2)\n",
    "            circ.cnot(qu1, qu2)\n",
    "        else:\n",
    "            gate, qu = line\n",
    "            qu = int(qu)\n",
    "            gate_map[gate](qu)\n",
    "    return circ"
   ]
  },
  {
   "cell_type": "code",
   "execution_count": 100,
   "metadata": {},
   "outputs": [],
   "source": [
    "def my_transpile(circ, coupling_map):\n",
    "    transpiled_circ = transpile(circ, backend=None, \n",
    "                                    coupling_map=coupling_map,\n",
    "                                    optimization_level=0,\n",
    "                                    basis_gates=['x', 'y','z','t','tdg','s','sdg','cx','h'],\n",
    "                                    layout_method='trivial')\n",
    "    return transpiled_circ"
   ]
  },
  {
   "cell_type": "code",
   "execution_count": 102,
   "metadata": {},
   "outputs": [
    {
     "name": "stdout",
     "output_type": "stream",
     "text": [
      "qubit: 16, init: 128, after: 740, overhead: 5.78125\n",
      "qubit: 16, init: 256, after: 1474, overhead: 5.7578125\n",
      "qubit: 20, init: 128, after: 770, overhead: 6.015625\n",
      "qubit: 20, init: 256, after: 1456, overhead: 5.6875\n"
     ]
    }
   ],
   "source": [
    "for num_qubit in (16, 20,):\n",
    "    cmap = qubit_to_cmap[num_qubit]\n",
    "    all_files = get_all_file_names('../cnotcount/Testing/', f'{num_qubit}*')\n",
    "    for file in all_files:\n",
    "        circ = get_circ_from_file(file)\n",
    "        transpiled_circ = my_transpile(circ, cmap)\n",
    "        init_count = circ.count_ops()['cx']\n",
    "        transpiled_count = transpiled_circ.count_ops()['cx']\n",
    "        overhead = transpiled_count / init_count\n",
    "        print(f'qubit: {num_qubit}, init: {init_count}, after: {transpiled_count}, overhead: {overhead}')"
   ]
  },
  {
   "cell_type": "markdown",
   "metadata": {},
   "source": [
    "TODO: write result to CSV"
   ]
  },
  {
   "cell_type": "markdown",
   "metadata": {},
   "source": [
    "## Analysis of the worst-case overhead"
   ]
  },
  {
   "cell_type": "markdown",
   "metadata": {},
   "source": [
    "Given a list of CNOTs\n",
    "$$\\{CNOT(q_{i,1},q_{i,2}): i=0,\\dots,m\\},$$\n",
    "the worst-case CNOT count is given by\n",
    "$$\\sum_{i=1}^m6(d(q_{i,1},q_{i,2})-1).$$\n",
    "The worst-case overhead is \n",
    "\\begin{align*}\n",
    "\\frac{1}{m}\\sum_{i=1}^m6(d(q_{i,1},q_{i,2})-1)\n",
    "&=6\\Big(\\frac{1}{m}\\sum_{i=1}^md(q_{i,1},q_{i,2})-1\\Big) \\\\\n",
    "&=6(\\operatorname{avg}\\{d(q_{i,1},q_{i,2})\\}-1).\n",
    "\\end{align*}\n",
    "\n",
    "If we assume the control and target qubits are randomly chosen with equal probability, then $$\\operatorname{avg}\\{d(q_{i,1},q_{i,2})\\}=\\operatorname{avg}\\{d(q_k,q_l):k,l=0,\\dots,N\\}.$$\n",
    "\n",
    "In fact, Qiskit provides a simple API to calculate the distance of any two qubits in an adjacency graph:"
   ]
  },
  {
   "cell_type": "code",
   "execution_count": null,
   "metadata": {},
   "outputs": [
    {
     "name": "stdout",
     "output_type": "stream",
     "text": [
      "[[0. 1. 2. 3. 2. 3. 4. 5. 6. 5. 4. 3. 4. 3. 2. 1.]\n",
      " [1. 0. 1. 2. 1. 2. 3. 4. 5. 4. 3. 2. 3. 4. 3. 2.]\n",
      " [2. 1. 0. 1. 2. 3. 2. 3. 4. 3. 2. 1. 2. 3. 2. 1.]\n",
      " [3. 2. 1. 0. 1. 2. 1. 2. 3. 2. 1. 2. 3. 4. 3. 2.]\n",
      " [2. 1. 2. 1. 0. 1. 2. 3. 4. 3. 2. 3. 4. 5. 4. 3.]\n",
      " [3. 2. 3. 2. 1. 0. 1. 2. 3. 4. 3. 4. 5. 6. 5. 4.]\n",
      " [4. 3. 2. 1. 2. 1. 0. 1. 2. 3. 2. 3. 4. 5. 4. 3.]\n",
      " [5. 4. 3. 2. 3. 2. 1. 0. 1. 2. 1. 2. 3. 4. 3. 4.]\n",
      " [6. 5. 4. 3. 4. 3. 2. 1. 0. 1. 2. 3. 2. 3. 4. 5.]\n",
      " [5. 4. 3. 2. 3. 4. 3. 2. 1. 0. 1. 2. 1. 2. 3. 4.]\n",
      " [4. 3. 2. 1. 2. 3. 2. 1. 2. 1. 0. 1. 2. 3. 2. 3.]\n",
      " [3. 2. 1. 2. 3. 4. 3. 2. 3. 2. 1. 0. 1. 2. 1. 2.]\n",
      " [4. 3. 2. 3. 4. 5. 4. 3. 2. 1. 2. 1. 0. 1. 2. 3.]\n",
      " [3. 4. 3. 4. 5. 6. 5. 4. 3. 2. 3. 2. 1. 0. 1. 2.]\n",
      " [2. 3. 2. 3. 4. 5. 4. 3. 4. 3. 2. 1. 2. 1. 0. 1.]\n",
      " [1. 2. 1. 2. 3. 4. 3. 4. 5. 4. 3. 2. 3. 2. 1. 0.]]\n"
     ]
    }
   ],
   "source": [
    "print(sq_16.distance_matrix)"
   ]
  },
  {
   "cell_type": "markdown",
   "metadata": {},
   "source": [
    "Therefore, the average distance is simply"
   ]
  },
  {
   "cell_type": "code",
   "execution_count": null,
   "metadata": {},
   "outputs": [
    {
     "name": "stdout",
     "output_type": "stream",
     "text": [
      "1.0\n",
      "1.3888888888888888\n",
      "2.5\n",
      "2.14\n"
     ]
    }
   ],
   "source": [
    "print(simple_4.distance_matrix.mean())\n",
    "print(simple_6.distance_matrix.mean())\n",
    "print(sq_16.distance_matrix.mean())\n",
    "print(tokyo_20.distance_matrix.mean())"
   ]
  },
  {
   "cell_type": "markdown",
   "metadata": {},
   "source": [
    "For example, for `sq_16`, the worst case overhead $\\approx 6(2.5-1)=900\\%$.\n",
    "\n",
    "Results from the previous section shows that Qiskit's built-in transpiler can consistantly reduce this overhead to $\\approx 600\\%$."
   ]
  },
  {
   "cell_type": "markdown",
   "metadata": {},
   "source": [
    "# A simple topology "
   ]
  },
  {
   "cell_type": "code",
   "execution_count": 52,
   "metadata": {},
   "outputs": [
    {
     "name": "stdout",
     "output_type": "stream",
     "text": [
      "qubit: 6, init: 4, after: 19, overhead: 4.75\n"
     ]
    }
   ],
   "source": [
    "cmap = qubit_to_cmap[6]\n",
    "circ = get_circ_from_file('6CNOT4_1.txt')\n",
    "init_c_count = 4\n",
    "transpiled_circ, cnot_count = trans(circ, cmap)\n",
    "overhead = cnot_count / init_c_count\n",
    "print(f'qubit: {circ.num_qubits}, init: {init_c_count}, after: {cnot_count}, overhead: {overhead}')"
   ]
  },
  {
   "cell_type": "code",
   "execution_count": 53,
   "metadata": {},
   "outputs": [
    {
     "data": {
      "text/html": [
       "<pre style=\"word-wrap: normal;white-space: pre;background: #fff0;line-height: 1.1;font-family: &quot;Courier New&quot;,Courier,monospace\">     ┌─────┐┌───┐┌─────┐      ┌───┐                \n",
       "q_0: ┤ Tdg ├┤ T ├┤ Tdg ├──■───┤ T ├────────────────\n",
       "     └─────┘├───┤└┬───┬┘  │  ┌┴───┴┐┌───┐          \n",
       "q_1: ───────┤ X ├─┤ T ├───┼──┤ Tdg ├┤ H ├──■───────\n",
       "      ┌───┐ └─┬─┘┌┴───┴┐  │  └─────┘└───┘┌─┴─┐     \n",
       "q_2: ─┤ X ├───┼──┤ Tdg ├──┼──────────────┤ X ├─────\n",
       "      ├───┤   │  └┬───┬┘  │   ┌───┐ ┌───┐└───┘┌───┐\n",
       "q_3: ─┤ T ├───■───┤ T ├───┼───┤ H ├─┤ T ├──■──┤ X ├\n",
       "      └───┘       └───┘ ┌─┴─┐ └───┘ └───┘┌─┴─┐└───┘\n",
       "q_4: ───────────────────┤ X ├────────────┤ X ├─────\n",
       "                        └───┘            └───┘     \n",
       "q_5: ──────────────────────────────────────────────\n",
       "                                                   </pre>"
      ],
      "text/plain": [
       "     ┌─────┐┌───┐┌─────┐      ┌───┐                \n",
       "q_0: ┤ Tdg ├┤ T ├┤ Tdg ├──■───┤ T ├────────────────\n",
       "     └─────┘├───┤└┬───┬┘  │  ┌┴───┴┐┌───┐          \n",
       "q_1: ───────┤ X ├─┤ T ├───┼──┤ Tdg ├┤ H ├──■───────\n",
       "      ┌───┐ └─┬─┘┌┴───┴┐  │  └─────┘└───┘┌─┴─┐     \n",
       "q_2: ─┤ X ├───┼──┤ Tdg ├──┼──────────────┤ X ├─────\n",
       "      ├───┤   │  └┬───┬┘  │   ┌───┐ ┌───┐└───┘┌───┐\n",
       "q_3: ─┤ T ├───■───┤ T ├───┼───┤ H ├─┤ T ├──■──┤ X ├\n",
       "      └───┘       └───┘ ┌─┴─┐ └───┘ └───┘┌─┴─┐└───┘\n",
       "q_4: ───────────────────┤ X ├────────────┤ X ├─────\n",
       "                        └───┘            └───┘     \n",
       "q_5: ──────────────────────────────────────────────\n",
       "                                                   "
      ]
     },
     "execution_count": 53,
     "metadata": {},
     "output_type": "execute_result"
    }
   ],
   "source": [
    "circ.draw()"
   ]
  },
  {
   "cell_type": "code",
   "execution_count": 54,
   "metadata": {},
   "outputs": [
    {
     "data": {
      "text/html": [
       "<pre style=\"word-wrap: normal;white-space: pre;background: #fff0;line-height: 1.1;font-family: &quot;Courier New&quot;,Courier,monospace\">         ┌─────┐       ┌───┐          ┌───┐ ┌───┐ ┌─────┐┌───┐┌───┐          »\n",
       "q_0 -> 0 ┤ Tdg ├───■───┤ X ├──■───────┤ X ├─┤ T ├─┤ Tdg ├┤ H ├┤ X ├───────■──»\n",
       "         └─────┘ ┌─┴─┐ └─┬─┘┌─┴─┐┌───┐└─┬─┘┌┴───┴┐└─────┘├───┤└─┬─┘       │  »\n",
       "q_1 -> 1 ────────┤ X ├───■──┤ X ├┤ T ├──┼──┤ Tdg ├───■───┤ T ├──┼────■────┼──»\n",
       "          ┌───┐ ┌┴───┴┐     ├───┤└───┘  │  └─────┘ ┌─┴─┐ └───┘  │  ┌─┴─┐  │  »\n",
       "q_2 -> 2 ─┤ X ├─┤ Tdg ├──■──┤ X ├──■────┼──────────┤ X ├────────┼──┤ X ├──┼──»\n",
       "          ├───┤ └─────┘  │  └─┬─┘  │    │   ┌───┐  ├───┤ ┌───┐  │  └───┘┌─┴─┐»\n",
       "q_3 -> 3 ─┤ T ├──────────┼────┼────┼────■───┤ T ├──┤ H ├─┤ T ├──■───────┤ X ├»\n",
       "          └───┘        ┌─┴─┐  │  ┌─┴─┐      ├───┤  └───┘ └───┘          └───┘»\n",
       "q_4 -> 4 ──────────────┤ X ├──■──┤ X ├──■───┤ X ├────■───────────────────────»\n",
       "                       └───┘     └───┘┌─┴─┐ └─┬─┘  ┌─┴─┐                     »\n",
       "q_5 -> 5 ─────────────────────────────┤ X ├───■────┤ X ├─────────────────────»\n",
       "                                      └───┘        └───┘                     »\n",
       "«              ┌───┐          ┌───┐\n",
       "«q_0 -> 0 ─────┤ X ├───────■──┤ X ├\n",
       "«         ┌───┐└─┬─┘     ┌─┴─┐└───┘\n",
       "«q_1 -> 1 ┤ X ├──┼────■──┤ X ├─────\n",
       "«         └─┬─┘  │  ┌─┴─┐└───┘     \n",
       "«q_2 -> 2 ──■────┼──┤ X ├──────────\n",
       "«                │  └───┘          \n",
       "«q_3 -> 3 ───────■────■────────────\n",
       "«                     │            \n",
       "«q_4 -> 4 ────────────┼────────────\n",
       "«                   ┌─┴─┐          \n",
       "«q_5 -> 5 ──────────┤ X ├──────────\n",
       "«                   └───┘          </pre>"
      ],
      "text/plain": [
       "         ┌─────┐       ┌───┐          ┌───┐ ┌───┐ ┌─────┐┌───┐┌───┐          »\n",
       "q_0 -> 0 ┤ Tdg ├───■───┤ X ├──■───────┤ X ├─┤ T ├─┤ Tdg ├┤ H ├┤ X ├───────■──»\n",
       "         └─────┘ ┌─┴─┐ └─┬─┘┌─┴─┐┌───┐└─┬─┘┌┴───┴┐└─────┘├───┤└─┬─┘       │  »\n",
       "q_1 -> 1 ────────┤ X ├───■──┤ X ├┤ T ├──┼──┤ Tdg ├───■───┤ T ├──┼────■────┼──»\n",
       "          ┌───┐ ┌┴───┴┐     ├───┤└───┘  │  └─────┘ ┌─┴─┐ └───┘  │  ┌─┴─┐  │  »\n",
       "q_2 -> 2 ─┤ X ├─┤ Tdg ├──■──┤ X ├──■────┼──────────┤ X ├────────┼──┤ X ├──┼──»\n",
       "          ├───┤ └─────┘  │  └─┬─┘  │    │   ┌───┐  ├───┤ ┌───┐  │  └───┘┌─┴─┐»\n",
       "q_3 -> 3 ─┤ T ├──────────┼────┼────┼────■───┤ T ├──┤ H ├─┤ T ├──■───────┤ X ├»\n",
       "          └───┘        ┌─┴─┐  │  ┌─┴─┐      ├───┤  └───┘ └───┘          └───┘»\n",
       "q_4 -> 4 ──────────────┤ X ├──■──┤ X ├──■───┤ X ├────■───────────────────────»\n",
       "                       └───┘     └───┘┌─┴─┐ └─┬─┘  ┌─┴─┐                     »\n",
       "q_5 -> 5 ─────────────────────────────┤ X ├───■────┤ X ├─────────────────────»\n",
       "                                      └───┘        └───┘                     »\n",
       "«              ┌───┐          ┌───┐\n",
       "«q_0 -> 0 ─────┤ X ├───────■──┤ X ├\n",
       "«         ┌───┐└─┬─┘     ┌─┴─┐└───┘\n",
       "«q_1 -> 1 ┤ X ├──┼────■──┤ X ├─────\n",
       "«         └─┬─┘  │  ┌─┴─┐└───┘     \n",
       "«q_2 -> 2 ──■────┼──┤ X ├──────────\n",
       "«                │  └───┘          \n",
       "«q_3 -> 3 ───────■────■────────────\n",
       "«                     │            \n",
       "«q_4 -> 4 ────────────┼────────────\n",
       "«                   ┌─┴─┐          \n",
       "«q_5 -> 5 ──────────┤ X ├──────────\n",
       "«                   └───┘          "
      ]
     },
     "execution_count": 54,
     "metadata": {},
     "output_type": "execute_result"
    }
   ],
   "source": [
    "transpiled_circ.draw()"
   ]
  }
 ],
 "metadata": {
  "interpreter": {
   "hash": "edcc2ff4eda6f009346bd3f9f2886ab37a3d86298e3488561ceb23f131449a51"
  },
  "kernelspec": {
   "display_name": "Python 3.7.4 64-bit",
   "language": "python",
   "name": "python3"
  },
  "language_info": {
   "codemirror_mode": {
    "name": "ipython",
    "version": 3
   },
   "file_extension": ".py",
   "mimetype": "text/x-python",
   "name": "python",
   "nbconvert_exporter": "python",
   "pygments_lexer": "ipython3",
   "version": "3.9.12"
  },
  "orig_nbformat": 4
 },
 "nbformat": 4,
 "nbformat_minor": 2
}
